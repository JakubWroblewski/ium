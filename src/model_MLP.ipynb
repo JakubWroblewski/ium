{
 "cells": [
  {
   "cell_type": "code",
   "execution_count": 1,
   "id": "48a681f3",
   "metadata": {},
   "outputs": [],
   "source": [
    "# Importy\n",
    "import torch\n",
    "import numpy as np\n",
    "import pandas as pd\n",
    "import torch.utils.data as data\n",
    "import torch.nn as nn\n",
    "from matplotlib import pyplot as plt\n",
    "from sklearn.metrics import mean_squared_error, mean_absolute_error, r2_score\n",
    "from sklearn.preprocessing import StandardScaler\n",
    "\n",
    "device = torch.device(\"cuda\" if torch.cuda.is_available() else \"cpu\")"
   ]
  },
  {
   "cell_type": "code",
   "execution_count": 2,
   "id": "27acb61f",
   "metadata": {},
   "outputs": [],
   "source": [
    "# Wczytanie danych\n",
    "df = pd.read_csv(\"../data/final_data.csv\", delimiter=';')\n",
    "df = df[df['price'].notna()]\n",
    "df = df[df['price'] > 0]\n",
    "df = df[df['price'] < 10000]\n",
    "df.drop(columns=['id'], inplace=True)"
   ]
  },
  {
   "cell_type": "code",
   "execution_count": 3,
   "id": "fb6844d7",
   "metadata": {},
   "outputs": [],
   "source": [
    "# Podział i log-transformacja ceny\n",
    "train_df = df.sample(frac=0.8, random_state=205)\n",
    "test_df = df.drop(train_df.index)\n",
    "\n",
    "train_df['price'] = np.log1p(train_df['price'])\n",
    "test_df['price'] = np.log1p(test_df['price'])\n",
    "\n",
    "X_train = train_df.iloc[:, :-1].values\n",
    "y_train = train_df.iloc[:, -1].values\n",
    "\n",
    "X_test = test_df.iloc[:, :-1].values\n",
    "y_test = test_df.iloc[:, -1].values"
   ]
  },
  {
   "cell_type": "code",
   "execution_count": 4,
   "id": "cc541501",
   "metadata": {},
   "outputs": [],
   "source": [
    "# Normalizacja cech\n",
    "scaler = StandardScaler()\n",
    "X_train = scaler.fit_transform(X_train)\n",
    "X_test = scaler.transform(X_test)"
   ]
  },
  {
   "cell_type": "code",
   "execution_count": 5,
   "id": "a3333f47",
   "metadata": {},
   "outputs": [],
   "source": [
    "# Tensory i DataLoadery\n",
    "X_train_tensor = torch.tensor(X_train, dtype=torch.float32)\n",
    "y_train_tensor = torch.tensor(y_train, dtype=torch.float32)\n",
    "\n",
    "X_test_tensor = torch.tensor(X_test, dtype=torch.float32)\n",
    "y_test_tensor = torch.tensor(y_test, dtype=torch.float32)\n",
    "\n",
    "train_dataset = data.TensorDataset(X_train_tensor, y_train_tensor)\n",
    "test_dataset = data.TensorDataset(X_test_tensor, y_test_tensor)\n",
    "\n",
    "train_loader = data.DataLoader(train_dataset, batch_size=64, shuffle=True, pin_memory=True)\n",
    "test_loader = data.DataLoader(test_dataset, batch_size=64, shuffle=False, pin_memory=True)"
   ]
  },
  {
   "cell_type": "code",
   "execution_count": 6,
   "id": "9f09fcc4",
   "metadata": {},
   "outputs": [],
   "source": [
    "# Definicja modelu\n",
    "class PriceRegressor(nn.Module):\n",
    "    def __init__(self, input_dim):\n",
    "        super().__init__()\n",
    "        self.model = nn.Sequential(\n",
    "            nn.Linear(input_dim, 128),\n",
    "            nn.ReLU(),\n",
    "            nn.Linear(128, 64),\n",
    "            nn.ReLU(),\n",
    "            nn.Linear(64, 1)\n",
    "        )\n",
    "\n",
    "    def forward(self, x):\n",
    "        return self.model(x).squeeze()"
   ]
  },
  {
   "cell_type": "code",
   "execution_count": 7,
   "id": "b32379be",
   "metadata": {},
   "outputs": [],
   "source": [
    "# Inicjalizacja\n",
    "model = PriceRegressor(X_train_tensor.shape[1]).to(device)\n",
    "criterion = nn.MSELoss()\n",
    "optimizer = torch.optim.Adam(model.parameters(), lr=1e-4)"
   ]
  },
  {
   "cell_type": "code",
   "execution_count": 8,
   "id": "ecbb32a8",
   "metadata": {},
   "outputs": [
    {
     "name": "stdout",
     "output_type": "stream",
     "text": [
      "Epoch 1/100, Loss: 21.8028\n",
      "Epoch 2/100, Loss: 16.1798\n",
      "Epoch 3/100, Loss: 8.4463\n",
      "Epoch 4/100, Loss: 2.8871\n",
      "Epoch 5/100, Loss: 1.4594\n",
      "Epoch 6/100, Loss: 1.1397\n",
      "Epoch 7/100, Loss: 0.9614\n",
      "Epoch 8/100, Loss: 0.8431\n",
      "Epoch 9/100, Loss: 0.7617\n",
      "Epoch 10/100, Loss: 0.7024\n",
      "Epoch 11/100, Loss: 0.6564\n",
      "Epoch 12/100, Loss: 0.6205\n",
      "Epoch 13/100, Loss: 0.5919\n",
      "Epoch 14/100, Loss: 0.5672\n",
      "Epoch 15/100, Loss: 0.5470\n",
      "Epoch 16/100, Loss: 0.5269\n",
      "Epoch 17/100, Loss: 0.5125\n",
      "Epoch 18/100, Loss: 0.4980\n",
      "Epoch 19/100, Loss: 0.4848\n",
      "Epoch 20/100, Loss: 0.4725\n",
      "Epoch 21/100, Loss: 0.4619\n",
      "Epoch 22/100, Loss: 0.4529\n",
      "Epoch 23/100, Loss: 0.4437\n",
      "Epoch 24/100, Loss: 0.4356\n",
      "Epoch 25/100, Loss: 0.4296\n",
      "Epoch 26/100, Loss: 0.4210\n",
      "Epoch 27/100, Loss: 0.4140\n",
      "Epoch 28/100, Loss: 0.4084\n",
      "Epoch 29/100, Loss: 0.4024\n",
      "Epoch 30/100, Loss: 0.3967\n",
      "Epoch 31/100, Loss: 0.3915\n",
      "Epoch 32/100, Loss: 0.3862\n",
      "Epoch 33/100, Loss: 0.3817\n",
      "Epoch 34/100, Loss: 0.3761\n",
      "Epoch 35/100, Loss: 0.3726\n",
      "Epoch 36/100, Loss: 0.3685\n",
      "Epoch 37/100, Loss: 0.3635\n",
      "Epoch 38/100, Loss: 0.3600\n",
      "Epoch 39/100, Loss: 0.3555\n",
      "Epoch 40/100, Loss: 0.3516\n",
      "Epoch 41/100, Loss: 0.3498\n",
      "Epoch 42/100, Loss: 0.3460\n",
      "Epoch 43/100, Loss: 0.3416\n",
      "Epoch 44/100, Loss: 0.3375\n",
      "Epoch 45/100, Loss: 0.3328\n",
      "Epoch 46/100, Loss: 0.3312\n",
      "Epoch 47/100, Loss: 0.3267\n",
      "Epoch 48/100, Loss: 0.3236\n",
      "Epoch 49/100, Loss: 0.3204\n",
      "Epoch 50/100, Loss: 0.3164\n",
      "Epoch 51/100, Loss: 0.3121\n",
      "Epoch 52/100, Loss: 0.3096\n",
      "Epoch 53/100, Loss: 0.3073\n",
      "Epoch 54/100, Loss: 0.3040\n",
      "Epoch 55/100, Loss: 0.3005\n",
      "Epoch 56/100, Loss: 0.2970\n",
      "Epoch 57/100, Loss: 0.2936\n",
      "Epoch 58/100, Loss: 0.2899\n",
      "Epoch 59/100, Loss: 0.2864\n",
      "Epoch 60/100, Loss: 0.2846\n",
      "Epoch 61/100, Loss: 0.2797\n",
      "Epoch 62/100, Loss: 0.2769\n",
      "Epoch 63/100, Loss: 0.2743\n",
      "Epoch 64/100, Loss: 0.2719\n",
      "Epoch 65/100, Loss: 0.2683\n",
      "Epoch 66/100, Loss: 0.2666\n",
      "Epoch 67/100, Loss: 0.2615\n",
      "Epoch 68/100, Loss: 0.2604\n",
      "Epoch 69/100, Loss: 0.2551\n",
      "Epoch 70/100, Loss: 0.2538\n",
      "Epoch 71/100, Loss: 0.2506\n",
      "Epoch 72/100, Loss: 0.2484\n",
      "Epoch 73/100, Loss: 0.2439\n",
      "Epoch 74/100, Loss: 0.2417\n",
      "Epoch 75/100, Loss: 0.2385\n",
      "Epoch 76/100, Loss: 0.2360\n",
      "Epoch 77/100, Loss: 0.2340\n",
      "Epoch 78/100, Loss: 0.2299\n",
      "Epoch 79/100, Loss: 0.2281\n",
      "Epoch 80/100, Loss: 0.2251\n",
      "Epoch 81/100, Loss: 0.2232\n",
      "Epoch 82/100, Loss: 0.2201\n",
      "Epoch 83/100, Loss: 0.2172\n",
      "Epoch 84/100, Loss: 0.2153\n",
      "Epoch 85/100, Loss: 0.2129\n",
      "Epoch 86/100, Loss: 0.2101\n",
      "Epoch 87/100, Loss: 0.2076\n",
      "Epoch 88/100, Loss: 0.2053\n",
      "Epoch 89/100, Loss: 0.2025\n",
      "Epoch 90/100, Loss: 0.1995\n",
      "Epoch 91/100, Loss: 0.1975\n",
      "Epoch 92/100, Loss: 0.1959\n",
      "Epoch 93/100, Loss: 0.1931\n",
      "Epoch 94/100, Loss: 0.1904\n",
      "Epoch 95/100, Loss: 0.1886\n",
      "Epoch 96/100, Loss: 0.1860\n",
      "Epoch 97/100, Loss: 0.1854\n",
      "Epoch 98/100, Loss: 0.1829\n",
      "Epoch 99/100, Loss: 0.1806\n",
      "Epoch 100/100, Loss: 0.1793\n"
     ]
    }
   ],
   "source": [
    "# Trenowanie\n",
    "num_epochs = 100\n",
    "\n",
    "for epoch in range(num_epochs):\n",
    "    model.train()\n",
    "    total_loss = 0\n",
    "    for xb, yb in train_loader:\n",
    "        xb, yb = xb.to(device), yb.to(device)\n",
    "        optimizer.zero_grad()\n",
    "        preds = model(xb)\n",
    "        loss = criterion(preds, yb)\n",
    "        loss.backward()\n",
    "        optimizer.step()\n",
    "        total_loss += loss.item()\n",
    "    avg_loss = total_loss / len(train_loader)\n",
    "    print(f\"Epoch {epoch+1}/{num_epochs}, Loss: {avg_loss:.4f}\")"
   ]
  },
  {
   "cell_type": "code",
   "execution_count": 9,
   "id": "c490fb39",
   "metadata": {},
   "outputs": [
    {
     "name": "stdout",
     "output_type": "stream",
     "text": [
      "MAE:  136.21\n",
      "RMSE: 546.05\n",
      "R²:   0.2778\n"
     ]
    }
   ],
   "source": [
    "# Ewaluacja\n",
    "model.eval()\n",
    "with torch.no_grad():\n",
    "    y_pred_tensor = model(X_test_tensor.to(device))\n",
    "    y_pred_log = y_pred_tensor.cpu().numpy()\n",
    "    y_pred_log = np.clip(y_pred_log, 0, 10)  # zabezpieczenie\n",
    "    y_true_log = y_test_tensor.numpy()\n",
    "\n",
    "# Cofnięcie log1p\n",
    "y_pred = np.expm1(y_pred_log)\n",
    "y_true = np.expm1(y_true_log)\n",
    "\n",
    "# Metryki\n",
    "mae = mean_absolute_error(y_true, y_pred)\n",
    "rmse = np.sqrt(mean_squared_error(y_true, y_pred))\n",
    "r2 = r2_score(y_true, y_pred)\n",
    "\n",
    "print(f\"MAE:  {mae:.2f}\")\n",
    "print(f\"RMSE: {rmse:.2f}\")\n",
    "print(f\"R²:   {r2:.4f}\")"
   ]
  },
  {
   "cell_type": "code",
   "execution_count": 10,
   "id": "548ed66c",
   "metadata": {},
   "outputs": [
    {
     "data": {
      "image/png": "[encoded data removed]",
      "text/plain": [
       "<Figure size 800x600 with 1 Axes>"
      ]
     },
     "metadata": {},
     "output_type": "display_data"
    }
   ],
   "source": [
    "# Wykres\n",
    "plt.figure(figsize=(8, 6))\n",
    "plt.scatter(y_true, y_pred, alpha=0.3)\n",
    "plt.plot([y_true.min(), y_true.max()], [y_true.min(), y_true.max()], 'r--')\n",
    "plt.xlabel(\"Rzeczywista cena\")\n",
    "plt.ylabel(\"Przewidywana cena\")\n",
    "plt.title(\"Predykcja ceny vs. Rzeczywistość\")\n",
    "plt.grid(True)\n",
    "plt.tight_layout()\n",
    "plt.show()"
   ]
  }
 ],
 "metadata": {
  "colab": {
   "provenance": []
  },
  "kernelspec": {
   "display_name": "Python 3",
   "name": "python3"
  },
  "language_info": {
   "codemirror_mode": {
    "name": "ipython",
    "version": 3
   },
   "file_extension": ".py",
   "mimetype": "text/x-python",
   "name": "python",
   "nbconvert_exporter": "python",
   "pygments_lexer": "ipython3",
   "version": "3.10.12"
  }
 },
 "nbformat": 4,
 "nbformat_minor": 0
}
